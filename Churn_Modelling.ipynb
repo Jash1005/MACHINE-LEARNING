{
 "cells": [
  {
   "cell_type": "code",
   "execution_count": 1,
   "id": "b410da18",
   "metadata": {
    "_cell_guid": "b1076dfc-b9ad-4769-8c92-a6c4dae69d19",
    "_uuid": "8f2839f25d086af736a60e9eeb907d3b93b6e0e5",
    "execution": {
     "iopub.execute_input": "2025-07-30T18:38:00.511450Z",
     "iopub.status.busy": "2025-07-30T18:38:00.511015Z",
     "iopub.status.idle": "2025-07-30T18:38:02.602003Z",
     "shell.execute_reply": "2025-07-30T18:38:02.600825Z"
    },
    "papermill": {
     "duration": 2.100296,
     "end_time": "2025-07-30T18:38:02.603755",
     "exception": false,
     "start_time": "2025-07-30T18:38:00.503459",
     "status": "completed"
    },
    "tags": []
   },
   "outputs": [
    {
     "name": "stdout",
     "output_type": "stream",
     "text": [
      "/kaggle/input/churn-modellingcsv/Churn_Modelling.csv\n"
     ]
    }
   ],
   "source": [
    "# This Python 3 environment comes with many helpful analytics libraries installed\n",
    "# It is defined by the kaggle/python Docker image: https://github.com/kaggle/docker-python\n",
    "# For example, here's several helpful packages to load\n",
    "\n",
    "import numpy as np # linear algebra\n",
    "import pandas as pd # data processing, CSV file I/O (e.g. pd.read_csv)\n",
    "\n",
    "# Input data files are available in the read-only \"../input/\" directory\n",
    "# For example, running this (by clicking run or pressing Shift+Enter) will list all files under the input directory\n",
    "\n",
    "import os\n",
    "for dirname, _, filenames in os.walk('/kaggle/input'):\n",
    "    for filename in filenames:\n",
    "        print(os.path.join(dirname, filename))\n",
    "\n",
    "# You can write up to 20GB to the current directory (/kaggle/working/) that gets preserved as output when you create a version using \"Save & Run All\" \n",
    "# You can also write temporary files to /kaggle/temp/, but they won't be saved outside of the current session"
   ]
  },
  {
   "cell_type": "code",
   "execution_count": 2,
   "id": "b236c27f",
   "metadata": {
    "execution": {
     "iopub.execute_input": "2025-07-30T18:38:02.616626Z",
     "iopub.status.busy": "2025-07-30T18:38:02.616124Z",
     "iopub.status.idle": "2025-07-30T18:38:02.669765Z",
     "shell.execute_reply": "2025-07-30T18:38:02.668703Z"
    },
    "papermill": {
     "duration": 0.062377,
     "end_time": "2025-07-30T18:38:02.671994",
     "exception": false,
     "start_time": "2025-07-30T18:38:02.609617",
     "status": "completed"
    },
    "tags": []
   },
   "outputs": [],
   "source": [
    "df = pd.read_csv('/kaggle/input/churn-modellingcsv/Churn_Modelling.csv')"
   ]
  },
  {
   "cell_type": "code",
   "execution_count": 3,
   "id": "6702cdf6",
   "metadata": {
    "execution": {
     "iopub.execute_input": "2025-07-30T18:38:02.683405Z",
     "iopub.status.busy": "2025-07-30T18:38:02.683106Z",
     "iopub.status.idle": "2025-07-30T18:38:02.714131Z",
     "shell.execute_reply": "2025-07-30T18:38:02.713027Z"
    },
    "papermill": {
     "duration": 0.038926,
     "end_time": "2025-07-30T18:38:02.715987",
     "exception": false,
     "start_time": "2025-07-30T18:38:02.677061",
     "status": "completed"
    },
    "tags": []
   },
   "outputs": [
    {
     "data": {
      "text/html": [
       "<div>\n",
       "<style scoped>\n",
       "    .dataframe tbody tr th:only-of-type {\n",
       "        vertical-align: middle;\n",
       "    }\n",
       "\n",
       "    .dataframe tbody tr th {\n",
       "        vertical-align: top;\n",
       "    }\n",
       "\n",
       "    .dataframe thead th {\n",
       "        text-align: right;\n",
       "    }\n",
       "</style>\n",
       "<table border=\"1\" class=\"dataframe\">\n",
       "  <thead>\n",
       "    <tr style=\"text-align: right;\">\n",
       "      <th></th>\n",
       "      <th>RowNumber</th>\n",
       "      <th>CustomerId</th>\n",
       "      <th>Surname</th>\n",
       "      <th>CreditScore</th>\n",
       "      <th>Geography</th>\n",
       "      <th>Gender</th>\n",
       "      <th>Age</th>\n",
       "      <th>Tenure</th>\n",
       "      <th>Balance</th>\n",
       "      <th>NumOfProducts</th>\n",
       "      <th>HasCrCard</th>\n",
       "      <th>IsActiveMember</th>\n",
       "      <th>EstimatedSalary</th>\n",
       "      <th>Exited</th>\n",
       "    </tr>\n",
       "  </thead>\n",
       "  <tbody>\n",
       "    <tr>\n",
       "      <th>0</th>\n",
       "      <td>1</td>\n",
       "      <td>15634602</td>\n",
       "      <td>Hargrave</td>\n",
       "      <td>619</td>\n",
       "      <td>France</td>\n",
       "      <td>Female</td>\n",
       "      <td>42</td>\n",
       "      <td>2</td>\n",
       "      <td>0.00</td>\n",
       "      <td>1</td>\n",
       "      <td>1</td>\n",
       "      <td>1</td>\n",
       "      <td>101348.88</td>\n",
       "      <td>1</td>\n",
       "    </tr>\n",
       "    <tr>\n",
       "      <th>1</th>\n",
       "      <td>2</td>\n",
       "      <td>15647311</td>\n",
       "      <td>Hill</td>\n",
       "      <td>608</td>\n",
       "      <td>Spain</td>\n",
       "      <td>Female</td>\n",
       "      <td>41</td>\n",
       "      <td>1</td>\n",
       "      <td>83807.86</td>\n",
       "      <td>1</td>\n",
       "      <td>0</td>\n",
       "      <td>1</td>\n",
       "      <td>112542.58</td>\n",
       "      <td>0</td>\n",
       "    </tr>\n",
       "    <tr>\n",
       "      <th>2</th>\n",
       "      <td>3</td>\n",
       "      <td>15619304</td>\n",
       "      <td>Onio</td>\n",
       "      <td>502</td>\n",
       "      <td>France</td>\n",
       "      <td>Female</td>\n",
       "      <td>42</td>\n",
       "      <td>8</td>\n",
       "      <td>159660.80</td>\n",
       "      <td>3</td>\n",
       "      <td>1</td>\n",
       "      <td>0</td>\n",
       "      <td>113931.57</td>\n",
       "      <td>1</td>\n",
       "    </tr>\n",
       "    <tr>\n",
       "      <th>3</th>\n",
       "      <td>4</td>\n",
       "      <td>15701354</td>\n",
       "      <td>Boni</td>\n",
       "      <td>699</td>\n",
       "      <td>France</td>\n",
       "      <td>Female</td>\n",
       "      <td>39</td>\n",
       "      <td>1</td>\n",
       "      <td>0.00</td>\n",
       "      <td>2</td>\n",
       "      <td>0</td>\n",
       "      <td>0</td>\n",
       "      <td>93826.63</td>\n",
       "      <td>0</td>\n",
       "    </tr>\n",
       "    <tr>\n",
       "      <th>4</th>\n",
       "      <td>5</td>\n",
       "      <td>15737888</td>\n",
       "      <td>Mitchell</td>\n",
       "      <td>850</td>\n",
       "      <td>Spain</td>\n",
       "      <td>Female</td>\n",
       "      <td>43</td>\n",
       "      <td>2</td>\n",
       "      <td>125510.82</td>\n",
       "      <td>1</td>\n",
       "      <td>1</td>\n",
       "      <td>1</td>\n",
       "      <td>79084.10</td>\n",
       "      <td>0</td>\n",
       "    </tr>\n",
       "  </tbody>\n",
       "</table>\n",
       "</div>"
      ],
      "text/plain": [
       "   RowNumber  CustomerId   Surname  CreditScore Geography  Gender  Age  \\\n",
       "0          1    15634602  Hargrave          619    France  Female   42   \n",
       "1          2    15647311      Hill          608     Spain  Female   41   \n",
       "2          3    15619304      Onio          502    France  Female   42   \n",
       "3          4    15701354      Boni          699    France  Female   39   \n",
       "4          5    15737888  Mitchell          850     Spain  Female   43   \n",
       "\n",
       "   Tenure    Balance  NumOfProducts  HasCrCard  IsActiveMember  \\\n",
       "0       2       0.00              1          1               1   \n",
       "1       1   83807.86              1          0               1   \n",
       "2       8  159660.80              3          1               0   \n",
       "3       1       0.00              2          0               0   \n",
       "4       2  125510.82              1          1               1   \n",
       "\n",
       "   EstimatedSalary  Exited  \n",
       "0        101348.88       1  \n",
       "1        112542.58       0  \n",
       "2        113931.57       1  \n",
       "3         93826.63       0  \n",
       "4         79084.10       0  "
      ]
     },
     "execution_count": 3,
     "metadata": {},
     "output_type": "execute_result"
    }
   ],
   "source": [
    "df.head()\n",
    "\n",
    "# print(df.shape)"
   ]
  },
  {
   "cell_type": "code",
   "execution_count": 4,
   "id": "4bfd3ecb",
   "metadata": {
    "execution": {
     "iopub.execute_input": "2025-07-30T18:38:02.728014Z",
     "iopub.status.busy": "2025-07-30T18:38:02.727713Z",
     "iopub.status.idle": "2025-07-30T18:38:02.759516Z",
     "shell.execute_reply": "2025-07-30T18:38:02.758217Z"
    },
    "papermill": {
     "duration": 0.040263,
     "end_time": "2025-07-30T18:38:02.761621",
     "exception": false,
     "start_time": "2025-07-30T18:38:02.721358",
     "status": "completed"
    },
    "tags": []
   },
   "outputs": [
    {
     "name": "stdout",
     "output_type": "stream",
     "text": [
      "<class 'pandas.core.frame.DataFrame'>\n",
      "RangeIndex: 10000 entries, 0 to 9999\n",
      "Data columns (total 14 columns):\n",
      " #   Column           Non-Null Count  Dtype  \n",
      "---  ------           --------------  -----  \n",
      " 0   RowNumber        10000 non-null  int64  \n",
      " 1   CustomerId       10000 non-null  int64  \n",
      " 2   Surname          10000 non-null  object \n",
      " 3   CreditScore      10000 non-null  int64  \n",
      " 4   Geography        10000 non-null  object \n",
      " 5   Gender           10000 non-null  object \n",
      " 6   Age              10000 non-null  int64  \n",
      " 7   Tenure           10000 non-null  int64  \n",
      " 8   Balance          10000 non-null  float64\n",
      " 9   NumOfProducts    10000 non-null  int64  \n",
      " 10  HasCrCard        10000 non-null  int64  \n",
      " 11  IsActiveMember   10000 non-null  int64  \n",
      " 12  EstimatedSalary  10000 non-null  float64\n",
      " 13  Exited           10000 non-null  int64  \n",
      "dtypes: float64(2), int64(9), object(3)\n",
      "memory usage: 1.1+ MB\n"
     ]
    }
   ],
   "source": [
    "df.info()"
   ]
  },
  {
   "cell_type": "markdown",
   "id": "626f6fc2",
   "metadata": {
    "papermill": {
     "duration": 0.005092,
     "end_time": "2025-07-30T18:38:02.772029",
     "exception": false,
     "start_time": "2025-07-30T18:38:02.766937",
     "status": "completed"
    },
    "tags": []
   },
   "source": [
    "**How many customer left bank ?? (Exited)**"
   ]
  },
  {
   "cell_type": "code",
   "execution_count": 5,
   "id": "8c749f72",
   "metadata": {
    "execution": {
     "iopub.execute_input": "2025-07-30T18:38:02.783834Z",
     "iopub.status.busy": "2025-07-30T18:38:02.783476Z",
     "iopub.status.idle": "2025-07-30T18:38:02.794892Z",
     "shell.execute_reply": "2025-07-30T18:38:02.793957Z"
    },
    "papermill": {
     "duration": 0.019222,
     "end_time": "2025-07-30T18:38:02.796403",
     "exception": false,
     "start_time": "2025-07-30T18:38:02.777181",
     "status": "completed"
    },
    "tags": []
   },
   "outputs": [
    {
     "data": {
      "text/plain": [
       "(7963, 14)"
      ]
     },
     "execution_count": 5,
     "metadata": {},
     "output_type": "execute_result"
    }
   ],
   "source": [
    "df[df['Exited'] == 0].shape"
   ]
  },
  {
   "cell_type": "code",
   "execution_count": 6,
   "id": "c7396685",
   "metadata": {
    "execution": {
     "iopub.execute_input": "2025-07-30T18:38:02.809283Z",
     "iopub.status.busy": "2025-07-30T18:38:02.808962Z",
     "iopub.status.idle": "2025-07-30T18:38:02.817886Z",
     "shell.execute_reply": "2025-07-30T18:38:02.816914Z"
    },
    "papermill": {
     "duration": 0.017798,
     "end_time": "2025-07-30T18:38:02.819699",
     "exception": false,
     "start_time": "2025-07-30T18:38:02.801901",
     "status": "completed"
    },
    "tags": []
   },
   "outputs": [
    {
     "data": {
      "text/plain": [
       "Gender\n",
       "Male      5457\n",
       "Female    4543\n",
       "Name: count, dtype: int64"
      ]
     },
     "execution_count": 6,
     "metadata": {},
     "output_type": "execute_result"
    }
   ],
   "source": [
    "#df['Geography'].value_counts()\n",
    "\n",
    "df['Gender'].value_counts()"
   ]
  },
  {
   "cell_type": "markdown",
   "id": "8f75dfb3",
   "metadata": {
    "papermill": {
     "duration": 0.005191,
     "end_time": "2025-07-30T18:38:02.830677",
     "exception": false,
     "start_time": "2025-07-30T18:38:02.825486",
     "status": "completed"
    },
    "tags": []
   },
   "source": [
    "**For any predictions we dont need any ID, surname, row_number**"
   ]
  },
  {
   "cell_type": "code",
   "execution_count": 7,
   "id": "1517adda",
   "metadata": {
    "execution": {
     "iopub.execute_input": "2025-07-30T18:38:02.843433Z",
     "iopub.status.busy": "2025-07-30T18:38:02.843047Z",
     "iopub.status.idle": "2025-07-30T18:38:02.855907Z",
     "shell.execute_reply": "2025-07-30T18:38:02.854751Z"
    },
    "papermill": {
     "duration": 0.021669,
     "end_time": "2025-07-30T18:38:02.857711",
     "exception": false,
     "start_time": "2025-07-30T18:38:02.836042",
     "status": "completed"
    },
    "tags": []
   },
   "outputs": [
    {
     "name": "stdout",
     "output_type": "stream",
     "text": [
      "   CreditScore Geography  Gender  Age  Tenure    Balance  NumOfProducts  \\\n",
      "0          619    France  Female   42       2       0.00              1   \n",
      "1          608     Spain  Female   41       1   83807.86              1   \n",
      "2          502    France  Female   42       8  159660.80              3   \n",
      "3          699    France  Female   39       1       0.00              2   \n",
      "4          850     Spain  Female   43       2  125510.82              1   \n",
      "\n",
      "   HasCrCard  IsActiveMember  EstimatedSalary  Exited  \n",
      "0          1               1        101348.88       1  \n",
      "1          0               1        112542.58       0  \n",
      "2          1               0        113931.57       1  \n",
      "3          0               0         93826.63       0  \n",
      "4          1               1         79084.10       0  \n"
     ]
    }
   ],
   "source": [
    "df.drop(columns = ['RowNumber' , 'CustomerId' , 'Surname'], inplace = True)\n",
    "\n",
    "print(df.head())"
   ]
  },
  {
   "cell_type": "markdown",
   "id": "d167dd0c",
   "metadata": {
    "papermill": {
     "duration": 0.005814,
     "end_time": "2025-07-30T18:38:02.870052",
     "exception": false,
     "start_time": "2025-07-30T18:38:02.864238",
     "status": "completed"
    },
    "tags": []
   },
   "source": [
    "**ONE HOT ENCODING OF GENDER AND PLACE**"
   ]
  },
  {
   "cell_type": "code",
   "execution_count": 8,
   "id": "edc87f39",
   "metadata": {
    "execution": {
     "iopub.execute_input": "2025-07-30T18:38:02.884292Z",
     "iopub.status.busy": "2025-07-30T18:38:02.882783Z",
     "iopub.status.idle": "2025-07-30T18:38:02.900528Z",
     "shell.execute_reply": "2025-07-30T18:38:02.899063Z"
    },
    "papermill": {
     "duration": 0.027966,
     "end_time": "2025-07-30T18:38:02.903379",
     "exception": false,
     "start_time": "2025-07-30T18:38:02.875413",
     "status": "completed"
    },
    "tags": []
   },
   "outputs": [],
   "source": [
    "# pd.get_dummies(df , columns = ['Gender','Geography'])\n",
    "\n",
    "df_dummies = pd.get_dummies(df , columns = ['Gender', 'Geography'] , drop_first=True)\n",
    " \n",
    "df_dummies = df_dummies.astype(int) "
   ]
  },
  {
   "cell_type": "markdown",
   "id": "f264ecaf",
   "metadata": {
    "papermill": {
     "duration": 0.006127,
     "end_time": "2025-07-30T18:38:02.915350",
     "exception": false,
     "start_time": "2025-07-30T18:38:02.909223",
     "status": "completed"
    },
    "tags": []
   },
   "source": [
    "When we observe Balance then some are single digit and some are 6 digit. Not a good thing"
   ]
  },
  {
   "cell_type": "code",
   "execution_count": 9,
   "id": "64d04454",
   "metadata": {
    "execution": {
     "iopub.execute_input": "2025-07-30T18:38:02.928476Z",
     "iopub.status.busy": "2025-07-30T18:38:02.928102Z",
     "iopub.status.idle": "2025-07-30T18:38:02.934802Z",
     "shell.execute_reply": "2025-07-30T18:38:02.933851Z"
    },
    "papermill": {
     "duration": 0.015169,
     "end_time": "2025-07-30T18:38:02.936609",
     "exception": false,
     "start_time": "2025-07-30T18:38:02.921440",
     "status": "completed"
    },
    "tags": []
   },
   "outputs": [],
   "source": [
    "X = df_dummies.drop(columns = ['Exited'])\n",
    "y = df_dummies['Exited']   # predicting whether user is still there or exited from bank"
   ]
  },
  {
   "cell_type": "code",
   "execution_count": 10,
   "id": "4cda3d8a",
   "metadata": {
    "execution": {
     "iopub.execute_input": "2025-07-30T18:38:02.950233Z",
     "iopub.status.busy": "2025-07-30T18:38:02.949899Z",
     "iopub.status.idle": "2025-07-30T18:38:02.963513Z",
     "shell.execute_reply": "2025-07-30T18:38:02.962531Z"
    },
    "papermill": {
     "duration": 0.023017,
     "end_time": "2025-07-30T18:38:02.965345",
     "exception": false,
     "start_time": "2025-07-30T18:38:02.942328",
     "status": "completed"
    },
    "tags": []
   },
   "outputs": [
    {
     "data": {
      "text/html": [
       "<div>\n",
       "<style scoped>\n",
       "    .dataframe tbody tr th:only-of-type {\n",
       "        vertical-align: middle;\n",
       "    }\n",
       "\n",
       "    .dataframe tbody tr th {\n",
       "        vertical-align: top;\n",
       "    }\n",
       "\n",
       "    .dataframe thead th {\n",
       "        text-align: right;\n",
       "    }\n",
       "</style>\n",
       "<table border=\"1\" class=\"dataframe\">\n",
       "  <thead>\n",
       "    <tr style=\"text-align: right;\">\n",
       "      <th></th>\n",
       "      <th>CreditScore</th>\n",
       "      <th>Age</th>\n",
       "      <th>Tenure</th>\n",
       "      <th>Balance</th>\n",
       "      <th>NumOfProducts</th>\n",
       "      <th>HasCrCard</th>\n",
       "      <th>IsActiveMember</th>\n",
       "      <th>EstimatedSalary</th>\n",
       "      <th>Gender_Male</th>\n",
       "      <th>Geography_Germany</th>\n",
       "      <th>Geography_Spain</th>\n",
       "    </tr>\n",
       "  </thead>\n",
       "  <tbody>\n",
       "    <tr>\n",
       "      <th>0</th>\n",
       "      <td>619</td>\n",
       "      <td>42</td>\n",
       "      <td>2</td>\n",
       "      <td>0</td>\n",
       "      <td>1</td>\n",
       "      <td>1</td>\n",
       "      <td>1</td>\n",
       "      <td>101348</td>\n",
       "      <td>0</td>\n",
       "      <td>0</td>\n",
       "      <td>0</td>\n",
       "    </tr>\n",
       "    <tr>\n",
       "      <th>1</th>\n",
       "      <td>608</td>\n",
       "      <td>41</td>\n",
       "      <td>1</td>\n",
       "      <td>83807</td>\n",
       "      <td>1</td>\n",
       "      <td>0</td>\n",
       "      <td>1</td>\n",
       "      <td>112542</td>\n",
       "      <td>0</td>\n",
       "      <td>0</td>\n",
       "      <td>1</td>\n",
       "    </tr>\n",
       "    <tr>\n",
       "      <th>2</th>\n",
       "      <td>502</td>\n",
       "      <td>42</td>\n",
       "      <td>8</td>\n",
       "      <td>159660</td>\n",
       "      <td>3</td>\n",
       "      <td>1</td>\n",
       "      <td>0</td>\n",
       "      <td>113931</td>\n",
       "      <td>0</td>\n",
       "      <td>0</td>\n",
       "      <td>0</td>\n",
       "    </tr>\n",
       "    <tr>\n",
       "      <th>3</th>\n",
       "      <td>699</td>\n",
       "      <td>39</td>\n",
       "      <td>1</td>\n",
       "      <td>0</td>\n",
       "      <td>2</td>\n",
       "      <td>0</td>\n",
       "      <td>0</td>\n",
       "      <td>93826</td>\n",
       "      <td>0</td>\n",
       "      <td>0</td>\n",
       "      <td>0</td>\n",
       "    </tr>\n",
       "    <tr>\n",
       "      <th>4</th>\n",
       "      <td>850</td>\n",
       "      <td>43</td>\n",
       "      <td>2</td>\n",
       "      <td>125510</td>\n",
       "      <td>1</td>\n",
       "      <td>1</td>\n",
       "      <td>1</td>\n",
       "      <td>79084</td>\n",
       "      <td>0</td>\n",
       "      <td>0</td>\n",
       "      <td>1</td>\n",
       "    </tr>\n",
       "    <tr>\n",
       "      <th>...</th>\n",
       "      <td>...</td>\n",
       "      <td>...</td>\n",
       "      <td>...</td>\n",
       "      <td>...</td>\n",
       "      <td>...</td>\n",
       "      <td>...</td>\n",
       "      <td>...</td>\n",
       "      <td>...</td>\n",
       "      <td>...</td>\n",
       "      <td>...</td>\n",
       "      <td>...</td>\n",
       "    </tr>\n",
       "    <tr>\n",
       "      <th>9995</th>\n",
       "      <td>771</td>\n",
       "      <td>39</td>\n",
       "      <td>5</td>\n",
       "      <td>0</td>\n",
       "      <td>2</td>\n",
       "      <td>1</td>\n",
       "      <td>0</td>\n",
       "      <td>96270</td>\n",
       "      <td>1</td>\n",
       "      <td>0</td>\n",
       "      <td>0</td>\n",
       "    </tr>\n",
       "    <tr>\n",
       "      <th>9996</th>\n",
       "      <td>516</td>\n",
       "      <td>35</td>\n",
       "      <td>10</td>\n",
       "      <td>57369</td>\n",
       "      <td>1</td>\n",
       "      <td>1</td>\n",
       "      <td>1</td>\n",
       "      <td>101699</td>\n",
       "      <td>1</td>\n",
       "      <td>0</td>\n",
       "      <td>0</td>\n",
       "    </tr>\n",
       "    <tr>\n",
       "      <th>9997</th>\n",
       "      <td>709</td>\n",
       "      <td>36</td>\n",
       "      <td>7</td>\n",
       "      <td>0</td>\n",
       "      <td>1</td>\n",
       "      <td>0</td>\n",
       "      <td>1</td>\n",
       "      <td>42085</td>\n",
       "      <td>0</td>\n",
       "      <td>0</td>\n",
       "      <td>0</td>\n",
       "    </tr>\n",
       "    <tr>\n",
       "      <th>9998</th>\n",
       "      <td>772</td>\n",
       "      <td>42</td>\n",
       "      <td>3</td>\n",
       "      <td>75075</td>\n",
       "      <td>2</td>\n",
       "      <td>1</td>\n",
       "      <td>0</td>\n",
       "      <td>92888</td>\n",
       "      <td>1</td>\n",
       "      <td>1</td>\n",
       "      <td>0</td>\n",
       "    </tr>\n",
       "    <tr>\n",
       "      <th>9999</th>\n",
       "      <td>792</td>\n",
       "      <td>28</td>\n",
       "      <td>4</td>\n",
       "      <td>130142</td>\n",
       "      <td>1</td>\n",
       "      <td>1</td>\n",
       "      <td>0</td>\n",
       "      <td>38190</td>\n",
       "      <td>0</td>\n",
       "      <td>0</td>\n",
       "      <td>0</td>\n",
       "    </tr>\n",
       "  </tbody>\n",
       "</table>\n",
       "<p>10000 rows × 11 columns</p>\n",
       "</div>"
      ],
      "text/plain": [
       "      CreditScore  Age  Tenure  Balance  NumOfProducts  HasCrCard  \\\n",
       "0             619   42       2        0              1          1   \n",
       "1             608   41       1    83807              1          0   \n",
       "2             502   42       8   159660              3          1   \n",
       "3             699   39       1        0              2          0   \n",
       "4             850   43       2   125510              1          1   \n",
       "...           ...  ...     ...      ...            ...        ...   \n",
       "9995          771   39       5        0              2          1   \n",
       "9996          516   35      10    57369              1          1   \n",
       "9997          709   36       7        0              1          0   \n",
       "9998          772   42       3    75075              2          1   \n",
       "9999          792   28       4   130142              1          1   \n",
       "\n",
       "      IsActiveMember  EstimatedSalary  Gender_Male  Geography_Germany  \\\n",
       "0                  1           101348            0                  0   \n",
       "1                  1           112542            0                  0   \n",
       "2                  0           113931            0                  0   \n",
       "3                  0            93826            0                  0   \n",
       "4                  1            79084            0                  0   \n",
       "...              ...              ...          ...                ...   \n",
       "9995               0            96270            1                  0   \n",
       "9996               1           101699            1                  0   \n",
       "9997               1            42085            0                  0   \n",
       "9998               0            92888            1                  1   \n",
       "9999               0            38190            0                  0   \n",
       "\n",
       "      Geography_Spain  \n",
       "0                   0  \n",
       "1                   1  \n",
       "2                   0  \n",
       "3                   0  \n",
       "4                   1  \n",
       "...               ...  \n",
       "9995                0  \n",
       "9996                0  \n",
       "9997                0  \n",
       "9998                0  \n",
       "9999                0  \n",
       "\n",
       "[10000 rows x 11 columns]"
      ]
     },
     "execution_count": 10,
     "metadata": {},
     "output_type": "execute_result"
    }
   ],
   "source": [
    "X"
   ]
  },
  {
   "cell_type": "code",
   "execution_count": 11,
   "id": "e926d39b",
   "metadata": {
    "execution": {
     "iopub.execute_input": "2025-07-30T18:38:02.978996Z",
     "iopub.status.busy": "2025-07-30T18:38:02.978650Z",
     "iopub.status.idle": "2025-07-30T18:38:04.786269Z",
     "shell.execute_reply": "2025-07-30T18:38:04.785213Z"
    },
    "papermill": {
     "duration": 1.816827,
     "end_time": "2025-07-30T18:38:04.788152",
     "exception": false,
     "start_time": "2025-07-30T18:38:02.971325",
     "status": "completed"
    },
    "tags": []
   },
   "outputs": [],
   "source": [
    "from sklearn.model_selection import train_test_split\n",
    "\n",
    "X_train,X_test,y_train,y_test = train_test_split(X,y,test_size=0.2,random_state = 1)"
   ]
  },
  {
   "cell_type": "code",
   "execution_count": 12,
   "id": "0b5eda69",
   "metadata": {
    "execution": {
     "iopub.execute_input": "2025-07-30T18:38:04.801163Z",
     "iopub.status.busy": "2025-07-30T18:38:04.800670Z",
     "iopub.status.idle": "2025-07-30T18:38:04.833660Z",
     "shell.execute_reply": "2025-07-30T18:38:04.832716Z"
    },
    "papermill": {
     "duration": 0.041255,
     "end_time": "2025-07-30T18:38:04.835286",
     "exception": false,
     "start_time": "2025-07-30T18:38:04.794031",
     "status": "completed"
    },
    "tags": []
   },
   "outputs": [],
   "source": [
    "from sklearn.preprocessing import StandardScaler\n",
    "\n",
    "scalar = StandardScaler()\n",
    "\n",
    "X_train_scaled = scalar.fit_transform(X_train)\n",
    "X_test_scaled = scalar.transform(X_test) # Uses the already fitted scaler (with X_train's mean and std) to transform X_test."
   ]
  },
  {
   "cell_type": "code",
   "execution_count": 13,
   "id": "88759332",
   "metadata": {
    "execution": {
     "iopub.execute_input": "2025-07-30T18:38:04.848603Z",
     "iopub.status.busy": "2025-07-30T18:38:04.848247Z",
     "iopub.status.idle": "2025-07-30T18:38:04.855213Z",
     "shell.execute_reply": "2025-07-30T18:38:04.854408Z"
    },
    "papermill": {
     "duration": 0.01532,
     "end_time": "2025-07-30T18:38:04.856740",
     "exception": false,
     "start_time": "2025-07-30T18:38:04.841420",
     "status": "completed"
    },
    "tags": []
   },
   "outputs": [
    {
     "data": {
      "text/plain": [
       "array([[-0.23082038, -0.94449979, -0.70174202, ...,  0.91509065,\n",
       "         1.71490137, -0.57273139],\n",
       "       [-0.25150912, -0.94449979, -0.35520275, ..., -1.09278791,\n",
       "        -0.58312392, -0.57273139],\n",
       "       [-0.3963303 ,  0.77498705,  0.33787579, ..., -1.09278791,\n",
       "         1.71490137, -0.57273139],\n",
       "       ...,\n",
       "       [ 0.22433188,  0.58393295,  1.3774936 , ..., -1.09278791,\n",
       "        -0.58312392, -0.57273139],\n",
       "       [ 0.13123255,  0.01077067,  1.03095433, ..., -1.09278791,\n",
       "        -0.58312392, -0.57273139],\n",
       "       [ 1.1656695 ,  0.29735181,  0.33787579, ...,  0.91509065,\n",
       "         1.71490137, -0.57273139]])"
      ]
     },
     "execution_count": 13,
     "metadata": {},
     "output_type": "execute_result"
    }
   ],
   "source": [
    "X_train_scaled"
   ]
  },
  {
   "cell_type": "code",
   "execution_count": 14,
   "id": "2860adb5",
   "metadata": {
    "execution": {
     "iopub.execute_input": "2025-07-30T18:38:04.870063Z",
     "iopub.status.busy": "2025-07-30T18:38:04.869739Z",
     "iopub.status.idle": "2025-07-30T18:38:23.092619Z",
     "shell.execute_reply": "2025-07-30T18:38:23.091426Z"
    },
    "papermill": {
     "duration": 18.232007,
     "end_time": "2025-07-30T18:38:23.094608",
     "exception": false,
     "start_time": "2025-07-30T18:38:04.862601",
     "status": "completed"
    },
    "tags": []
   },
   "outputs": [
    {
     "name": "stderr",
     "output_type": "stream",
     "text": [
      "2025-07-30 18:38:06.956266: E external/local_xla/xla/stream_executor/cuda/cuda_fft.cc:477] Unable to register cuFFT factory: Attempting to register factory for plugin cuFFT when one has already been registered\n",
      "WARNING: All log messages before absl::InitializeLog() is called are written to STDERR\n",
      "E0000 00:00:1753900687.201311      13 cuda_dnn.cc:8310] Unable to register cuDNN factory: Attempting to register factory for plugin cuDNN when one has already been registered\n",
      "E0000 00:00:1753900687.269784      13 cuda_blas.cc:1418] Unable to register cuBLAS factory: Attempting to register factory for plugin cuBLAS when one has already been registered\n"
     ]
    }
   ],
   "source": [
    "import tensorflow \n",
    "from tensorflow import keras\n",
    "from tensorflow.keras import Sequential\n",
    "from tensorflow.keras.layers import Dense"
   ]
  },
  {
   "cell_type": "code",
   "execution_count": 15,
   "id": "22baa9c8",
   "metadata": {
    "execution": {
     "iopub.execute_input": "2025-07-30T18:38:23.108531Z",
     "iopub.status.busy": "2025-07-30T18:38:23.107828Z",
     "iopub.status.idle": "2025-07-30T18:38:23.200128Z",
     "shell.execute_reply": "2025-07-30T18:38:23.198830Z"
    },
    "papermill": {
     "duration": 0.100847,
     "end_time": "2025-07-30T18:38:23.201742",
     "exception": false,
     "start_time": "2025-07-30T18:38:23.100895",
     "status": "completed"
    },
    "tags": []
   },
   "outputs": [
    {
     "name": "stderr",
     "output_type": "stream",
     "text": [
      "/usr/local/lib/python3.11/dist-packages/keras/src/layers/core/dense.py:87: UserWarning: Do not pass an `input_shape`/`input_dim` argument to a layer. When using Sequential models, prefer using an `Input(shape)` object as the first layer in the model instead.\n",
      "  super().__init__(activity_regularizer=activity_regularizer, **kwargs)\n",
      "2025-07-30 18:38:23.119923: E external/local_xla/xla/stream_executor/cuda/cuda_driver.cc:152] failed call to cuInit: INTERNAL: CUDA error: Failed call to cuInit: UNKNOWN ERROR (303)\n"
     ]
    }
   ],
   "source": [
    "model = Sequential()\n",
    "\n",
    "model.add(Dense(3, activation='sigmoid', input_dim = 11))\n",
    "model.add(Dense(1, activation='sigmoid'))"
   ]
  },
  {
   "cell_type": "code",
   "execution_count": 16,
   "id": "47cfb0b7",
   "metadata": {
    "execution": {
     "iopub.execute_input": "2025-07-30T18:38:23.216519Z",
     "iopub.status.busy": "2025-07-30T18:38:23.214812Z",
     "iopub.status.idle": "2025-07-30T18:38:23.232721Z",
     "shell.execute_reply": "2025-07-30T18:38:23.231737Z"
    },
    "papermill": {
     "duration": 0.02658,
     "end_time": "2025-07-30T18:38:23.234448",
     "exception": false,
     "start_time": "2025-07-30T18:38:23.207868",
     "status": "completed"
    },
    "tags": []
   },
   "outputs": [
    {
     "data": {
      "text/html": [
       "<pre style=\"white-space:pre;overflow-x:auto;line-height:normal;font-family:Menlo,'DejaVu Sans Mono',consolas,'Courier New',monospace\"><span style=\"font-weight: bold\">Model: \"sequential\"</span>\n",
       "</pre>\n"
      ],
      "text/plain": [
       "\u001b[1mModel: \"sequential\"\u001b[0m\n"
      ]
     },
     "metadata": {},
     "output_type": "display_data"
    },
    {
     "data": {
      "text/html": [
       "<pre style=\"white-space:pre;overflow-x:auto;line-height:normal;font-family:Menlo,'DejaVu Sans Mono',consolas,'Courier New',monospace\">┏━━━━━━━━━━━━━━━━━━━━━━━━━━━━━━━━━┳━━━━━━━━━━━━━━━━━━━━━━━━┳━━━━━━━━━━━━━━━┓\n",
       "┃<span style=\"font-weight: bold\"> Layer (type)                    </span>┃<span style=\"font-weight: bold\"> Output Shape           </span>┃<span style=\"font-weight: bold\">       Param # </span>┃\n",
       "┡━━━━━━━━━━━━━━━━━━━━━━━━━━━━━━━━━╇━━━━━━━━━━━━━━━━━━━━━━━━╇━━━━━━━━━━━━━━━┩\n",
       "│ dense (<span style=\"color: #0087ff; text-decoration-color: #0087ff\">Dense</span>)                   │ (<span style=\"color: #00d7ff; text-decoration-color: #00d7ff\">None</span>, <span style=\"color: #00af00; text-decoration-color: #00af00\">3</span>)              │            <span style=\"color: #00af00; text-decoration-color: #00af00\">36</span> │\n",
       "├─────────────────────────────────┼────────────────────────┼───────────────┤\n",
       "│ dense_1 (<span style=\"color: #0087ff; text-decoration-color: #0087ff\">Dense</span>)                 │ (<span style=\"color: #00d7ff; text-decoration-color: #00d7ff\">None</span>, <span style=\"color: #00af00; text-decoration-color: #00af00\">1</span>)              │             <span style=\"color: #00af00; text-decoration-color: #00af00\">4</span> │\n",
       "└─────────────────────────────────┴────────────────────────┴───────────────┘\n",
       "</pre>\n"
      ],
      "text/plain": [
       "┏━━━━━━━━━━━━━━━━━━━━━━━━━━━━━━━━━┳━━━━━━━━━━━━━━━━━━━━━━━━┳━━━━━━━━━━━━━━━┓\n",
       "┃\u001b[1m \u001b[0m\u001b[1mLayer (type)                   \u001b[0m\u001b[1m \u001b[0m┃\u001b[1m \u001b[0m\u001b[1mOutput Shape          \u001b[0m\u001b[1m \u001b[0m┃\u001b[1m \u001b[0m\u001b[1m      Param #\u001b[0m\u001b[1m \u001b[0m┃\n",
       "┡━━━━━━━━━━━━━━━━━━━━━━━━━━━━━━━━━╇━━━━━━━━━━━━━━━━━━━━━━━━╇━━━━━━━━━━━━━━━┩\n",
       "│ dense (\u001b[38;5;33mDense\u001b[0m)                   │ (\u001b[38;5;45mNone\u001b[0m, \u001b[38;5;34m3\u001b[0m)              │            \u001b[38;5;34m36\u001b[0m │\n",
       "├─────────────────────────────────┼────────────────────────┼───────────────┤\n",
       "│ dense_1 (\u001b[38;5;33mDense\u001b[0m)                 │ (\u001b[38;5;45mNone\u001b[0m, \u001b[38;5;34m1\u001b[0m)              │             \u001b[38;5;34m4\u001b[0m │\n",
       "└─────────────────────────────────┴────────────────────────┴───────────────┘\n"
      ]
     },
     "metadata": {},
     "output_type": "display_data"
    },
    {
     "data": {
      "text/html": [
       "<pre style=\"white-space:pre;overflow-x:auto;line-height:normal;font-family:Menlo,'DejaVu Sans Mono',consolas,'Courier New',monospace\"><span style=\"font-weight: bold\"> Total params: </span><span style=\"color: #00af00; text-decoration-color: #00af00\">40</span> (160.00 B)\n",
       "</pre>\n"
      ],
      "text/plain": [
       "\u001b[1m Total params: \u001b[0m\u001b[38;5;34m40\u001b[0m (160.00 B)\n"
      ]
     },
     "metadata": {},
     "output_type": "display_data"
    },
    {
     "data": {
      "text/html": [
       "<pre style=\"white-space:pre;overflow-x:auto;line-height:normal;font-family:Menlo,'DejaVu Sans Mono',consolas,'Courier New',monospace\"><span style=\"font-weight: bold\"> Trainable params: </span><span style=\"color: #00af00; text-decoration-color: #00af00\">40</span> (160.00 B)\n",
       "</pre>\n"
      ],
      "text/plain": [
       "\u001b[1m Trainable params: \u001b[0m\u001b[38;5;34m40\u001b[0m (160.00 B)\n"
      ]
     },
     "metadata": {},
     "output_type": "display_data"
    },
    {
     "data": {
      "text/html": [
       "<pre style=\"white-space:pre;overflow-x:auto;line-height:normal;font-family:Menlo,'DejaVu Sans Mono',consolas,'Courier New',monospace\"><span style=\"font-weight: bold\"> Non-trainable params: </span><span style=\"color: #00af00; text-decoration-color: #00af00\">0</span> (0.00 B)\n",
       "</pre>\n"
      ],
      "text/plain": [
       "\u001b[1m Non-trainable params: \u001b[0m\u001b[38;5;34m0\u001b[0m (0.00 B)\n"
      ]
     },
     "metadata": {},
     "output_type": "display_data"
    }
   ],
   "source": [
    "model.summary()"
   ]
  },
  {
   "cell_type": "code",
   "execution_count": 17,
   "id": "55cf5c98",
   "metadata": {
    "execution": {
     "iopub.execute_input": "2025-07-30T18:38:23.249204Z",
     "iopub.status.busy": "2025-07-30T18:38:23.248877Z",
     "iopub.status.idle": "2025-07-30T18:38:23.264680Z",
     "shell.execute_reply": "2025-07-30T18:38:23.263720Z"
    },
    "papermill": {
     "duration": 0.025167,
     "end_time": "2025-07-30T18:38:23.266384",
     "exception": false,
     "start_time": "2025-07-30T18:38:23.241217",
     "status": "completed"
    },
    "tags": []
   },
   "outputs": [],
   "source": [
    "model.compile(loss='binary_crossentropy', optimizer='Adam')"
   ]
  },
  {
   "cell_type": "code",
   "execution_count": 18,
   "id": "df455ea5",
   "metadata": {
    "execution": {
     "iopub.execute_input": "2025-07-30T18:38:23.281485Z",
     "iopub.status.busy": "2025-07-30T18:38:23.281136Z",
     "iopub.status.idle": "2025-07-30T18:38:30.481812Z",
     "shell.execute_reply": "2025-07-30T18:38:30.480777Z"
    },
    "papermill": {
     "duration": 7.210371,
     "end_time": "2025-07-30T18:38:30.483397",
     "exception": false,
     "start_time": "2025-07-30T18:38:23.273026",
     "status": "completed"
    },
    "tags": []
   },
   "outputs": [
    {
     "name": "stdout",
     "output_type": "stream",
     "text": [
      "Epoch 1/10\n",
      "\u001b[1m200/200\u001b[0m \u001b[32m━━━━━━━━━━━━━━━━━━━━\u001b[0m\u001b[37m\u001b[0m \u001b[1m2s\u001b[0m 4ms/step - loss: 1.0962 - val_loss: 0.8891\n",
      "Epoch 2/10\n",
      "\u001b[1m200/200\u001b[0m \u001b[32m━━━━━━━━━━━━━━━━━━━━\u001b[0m\u001b[37m\u001b[0m \u001b[1m1s\u001b[0m 3ms/step - loss: 0.8403 - val_loss: 0.7071\n",
      "Epoch 3/10\n",
      "\u001b[1m200/200\u001b[0m \u001b[32m━━━━━━━━━━━━━━━━━━━━\u001b[0m\u001b[37m\u001b[0m \u001b[1m1s\u001b[0m 3ms/step - loss: 0.6754 - val_loss: 0.5982\n",
      "Epoch 4/10\n",
      "\u001b[1m200/200\u001b[0m \u001b[32m━━━━━━━━━━━━━━━━━━━━\u001b[0m\u001b[37m\u001b[0m \u001b[1m1s\u001b[0m 3ms/step - loss: 0.5766 - val_loss: 0.5353\n",
      "Epoch 5/10\n",
      "\u001b[1m200/200\u001b[0m \u001b[32m━━━━━━━━━━━━━━━━━━━━\u001b[0m\u001b[37m\u001b[0m \u001b[1m1s\u001b[0m 3ms/step - loss: 0.5242 - val_loss: 0.5006\n",
      "Epoch 6/10\n",
      "\u001b[1m200/200\u001b[0m \u001b[32m━━━━━━━━━━━━━━━━━━━━\u001b[0m\u001b[37m\u001b[0m \u001b[1m1s\u001b[0m 2ms/step - loss: 0.4914 - val_loss: 0.4806\n",
      "Epoch 7/10\n",
      "\u001b[1m200/200\u001b[0m \u001b[32m━━━━━━━━━━━━━━━━━━━━\u001b[0m\u001b[37m\u001b[0m \u001b[1m1s\u001b[0m 2ms/step - loss: 0.4731 - val_loss: 0.4688\n",
      "Epoch 8/10\n",
      "\u001b[1m200/200\u001b[0m \u001b[32m━━━━━━━━━━━━━━━━━━━━\u001b[0m\u001b[37m\u001b[0m \u001b[1m1s\u001b[0m 3ms/step - loss: 0.4598 - val_loss: 0.4607\n",
      "Epoch 9/10\n",
      "\u001b[1m200/200\u001b[0m \u001b[32m━━━━━━━━━━━━━━━━━━━━\u001b[0m\u001b[37m\u001b[0m \u001b[1m1s\u001b[0m 3ms/step - loss: 0.4619 - val_loss: 0.4549\n",
      "Epoch 10/10\n",
      "\u001b[1m200/200\u001b[0m \u001b[32m━━━━━━━━━━━━━━━━━━━━\u001b[0m\u001b[37m\u001b[0m \u001b[1m1s\u001b[0m 2ms/step - loss: 0.4472 - val_loss: 0.4504\n"
     ]
    }
   ],
   "source": [
    "history = model.fit(X_train_scaled, y_train, epochs=10, validation_split=0.2)"
   ]
  },
  {
   "cell_type": "code",
   "execution_count": 19,
   "id": "e3398693",
   "metadata": {
    "execution": {
     "iopub.execute_input": "2025-07-30T18:38:30.510025Z",
     "iopub.status.busy": "2025-07-30T18:38:30.509549Z",
     "iopub.status.idle": "2025-07-30T18:38:30.521100Z",
     "shell.execute_reply": "2025-07-30T18:38:30.520127Z"
    },
    "papermill": {
     "duration": 0.02676,
     "end_time": "2025-07-30T18:38:30.522738",
     "exception": false,
     "start_time": "2025-07-30T18:38:30.495978",
     "status": "completed"
    },
    "tags": []
   },
   "outputs": [
    {
     "data": {
      "text/plain": [
       "[array([[ 0.13348924, -0.32961392,  0.30562738],\n",
       "        [-1.0649469 ,  0.819824  ,  0.34435266],\n",
       "        [ 0.10637794, -0.00487785,  0.12483908],\n",
       "        [-0.56607205, -0.2122277 ,  0.08030321],\n",
       "        [-0.0898646 , -0.91244745,  0.05456268],\n",
       "        [ 0.14048749,  0.18512225, -0.3669656 ],\n",
       "        [ 0.7542036 , -0.27314523, -0.14313316],\n",
       "        [-0.13636036,  0.06913141, -0.12407462],\n",
       "        [ 0.5144792 , -0.1237954 , -0.23330188],\n",
       "        [-0.3377703 ,  0.45408162,  0.7242948 ],\n",
       "        [-0.04102451,  0.2288639 , -0.46015474]], dtype=float32),\n",
       " array([ 1.1057651 , -0.694491  , -0.59694225], dtype=float32)]"
      ]
     },
     "execution_count": 19,
     "metadata": {},
     "output_type": "execute_result"
    }
   ],
   "source": [
    "model.layers[0].get_weights()"
   ]
  },
  {
   "cell_type": "code",
   "execution_count": 20,
   "id": "1ec4aad3",
   "metadata": {
    "execution": {
     "iopub.execute_input": "2025-07-30T18:38:30.547078Z",
     "iopub.status.busy": "2025-07-30T18:38:30.546707Z",
     "iopub.status.idle": "2025-07-30T18:38:30.555623Z",
     "shell.execute_reply": "2025-07-30T18:38:30.554649Z"
    },
    "papermill": {
     "duration": 0.022735,
     "end_time": "2025-07-30T18:38:30.557116",
     "exception": false,
     "start_time": "2025-07-30T18:38:30.534381",
     "status": "completed"
    },
    "tags": []
   },
   "outputs": [
    {
     "data": {
      "text/plain": [
       "[array([[-1.2654144 ],\n",
       "        [ 0.6070235 ],\n",
       "        [ 0.33235583]], dtype=float32),\n",
       " array([-0.8413716], dtype=float32)]"
      ]
     },
     "execution_count": 20,
     "metadata": {},
     "output_type": "execute_result"
    }
   ],
   "source": [
    "model.layers[1].get_weights()"
   ]
  },
  {
   "cell_type": "code",
   "execution_count": 21,
   "id": "42c64b49",
   "metadata": {
    "execution": {
     "iopub.execute_input": "2025-07-30T18:38:30.581486Z",
     "iopub.status.busy": "2025-07-30T18:38:30.581167Z",
     "iopub.status.idle": "2025-07-30T18:38:30.869416Z",
     "shell.execute_reply": "2025-07-30T18:38:30.868090Z"
    },
    "papermill": {
     "duration": 0.303108,
     "end_time": "2025-07-30T18:38:30.871520",
     "exception": false,
     "start_time": "2025-07-30T18:38:30.568412",
     "status": "completed"
    },
    "tags": []
   },
   "outputs": [
    {
     "name": "stdout",
     "output_type": "stream",
     "text": [
      "\u001b[1m63/63\u001b[0m \u001b[32m━━━━━━━━━━━━━━━━━━━━\u001b[0m\u001b[37m\u001b[0m \u001b[1m0s\u001b[0m 2ms/step\n"
     ]
    }
   ],
   "source": [
    "y_log = model.predict(X_test_scaled)"
   ]
  },
  {
   "cell_type": "code",
   "execution_count": 22,
   "id": "937246a0",
   "metadata": {
    "execution": {
     "iopub.execute_input": "2025-07-30T18:38:30.897541Z",
     "iopub.status.busy": "2025-07-30T18:38:30.897220Z",
     "iopub.status.idle": "2025-07-30T18:38:30.902165Z",
     "shell.execute_reply": "2025-07-30T18:38:30.901088Z"
    },
    "papermill": {
     "duration": 0.020005,
     "end_time": "2025-07-30T18:38:30.903729",
     "exception": false,
     "start_time": "2025-07-30T18:38:30.883724",
     "status": "completed"
    },
    "tags": []
   },
   "outputs": [],
   "source": [
    "y_pred = np.where(y_log > 0.5 , 1 , 0) "
   ]
  },
  {
   "cell_type": "code",
   "execution_count": 23,
   "id": "73e60def",
   "metadata": {
    "execution": {
     "iopub.execute_input": "2025-07-30T18:38:30.928081Z",
     "iopub.status.busy": "2025-07-30T18:38:30.927751Z",
     "iopub.status.idle": "2025-07-30T18:38:30.937518Z",
     "shell.execute_reply": "2025-07-30T18:38:30.936316Z"
    },
    "papermill": {
     "duration": 0.024108,
     "end_time": "2025-07-30T18:38:30.939473",
     "exception": false,
     "start_time": "2025-07-30T18:38:30.915365",
     "status": "completed"
    },
    "tags": []
   },
   "outputs": [
    {
     "data": {
      "text/plain": [
       "0.7935"
      ]
     },
     "execution_count": 23,
     "metadata": {},
     "output_type": "execute_result"
    }
   ],
   "source": [
    "from sklearn.metrics import accuracy_score\n",
    "accuracy_score(y_test,y_pred)\n",
    "\n",
    "# to improve we can increase epochs or activation functions as ReLu or increase hidden layer nodes or increase hidden layer\n"
   ]
  },
  {
   "cell_type": "code",
   "execution_count": 24,
   "id": "7a2f5b9d",
   "metadata": {
    "execution": {
     "iopub.execute_input": "2025-07-30T18:38:30.965716Z",
     "iopub.status.busy": "2025-07-30T18:38:30.964673Z",
     "iopub.status.idle": "2025-07-30T18:38:30.971552Z",
     "shell.execute_reply": "2025-07-30T18:38:30.970758Z"
    },
    "papermill": {
     "duration": 0.020843,
     "end_time": "2025-07-30T18:38:30.973014",
     "exception": false,
     "start_time": "2025-07-30T18:38:30.952171",
     "status": "completed"
    },
    "tags": []
   },
   "outputs": [
    {
     "data": {
      "text/plain": [
       "{'loss': [1.0271886587142944,\n",
       "  0.7929554581642151,\n",
       "  0.6475284695625305,\n",
       "  0.5626413822174072,\n",
       "  0.5146017670631409,\n",
       "  0.4875144064426422,\n",
       "  0.47155001759529114,\n",
       "  0.4612495005130768,\n",
       "  0.45391079783439636,\n",
       "  0.4482748508453369],\n",
       " 'val_loss': [0.8890901803970337,\n",
       "  0.707136332988739,\n",
       "  0.5981606245040894,\n",
       "  0.5353188514709473,\n",
       "  0.5005546808242798,\n",
       "  0.48060891032218933,\n",
       "  0.4687606692314148,\n",
       "  0.46072959899902344,\n",
       "  0.4549104571342468,\n",
       "  0.450398325920105]}"
      ]
     },
     "execution_count": 24,
     "metadata": {},
     "output_type": "execute_result"
    }
   ],
   "source": [
    "import matplotlib.pyplot as plt\n",
    "\n",
    "history.history"
   ]
  },
  {
   "cell_type": "code",
   "execution_count": 25,
   "id": "5a902640",
   "metadata": {
    "execution": {
     "iopub.execute_input": "2025-07-30T18:38:30.998921Z",
     "iopub.status.busy": "2025-07-30T18:38:30.997743Z",
     "iopub.status.idle": "2025-07-30T18:38:31.257004Z",
     "shell.execute_reply": "2025-07-30T18:38:31.255895Z"
    },
    "papermill": {
     "duration": 0.274115,
     "end_time": "2025-07-30T18:38:31.258872",
     "exception": false,
     "start_time": "2025-07-30T18:38:30.984757",
     "status": "completed"
    },
    "tags": []
   },
   "outputs": [
    {
     "data": {
      "text/plain": [
       "[<matplotlib.lines.Line2D at 0x7f4f0068b190>]"
      ]
     },
     "execution_count": 25,
     "metadata": {},
     "output_type": "execute_result"
    },
    {
     "data": {
      "image/png": "[encoded data removed]",
      "text/plain": [
       "<Figure size 640x480 with 1 Axes>"
      ]
     },
     "metadata": {},
     "output_type": "display_data"
    }
   ],
   "source": [
    "plt.plot(history.history['loss'])\n",
    "\n",
    "plt.plot(history.history['val_loss'])"
   ]
  }
 ],
 "metadata": {
  "kaggle": {
   "accelerator": "none",
   "dataSources": [
    {
     "datasetId": 13214,
     "sourceId": 17927,
     "sourceType": "datasetVersion"
    }
   ],
   "dockerImageVersionId": 31089,
   "isGpuEnabled": false,
   "isInternetEnabled": true,
   "language": "python",
   "sourceType": "notebook"
  },
  "kernelspec": {
   "display_name": "Python 3",
   "language": "python",
   "name": "python3"
  },
  "language_info": {
   "codemirror_mode": {
    "name": "ipython",
    "version": 3
   },
   "file_extension": ".py",
   "mimetype": "text/x-python",
   "name": "python",
   "nbconvert_exporter": "python",
   "pygments_lexer": "ipython3",
   "version": "3.11.13"
  },
  "papermill": {
   "default_parameters": {},
   "duration": 40.338291,
   "end_time": "2025-07-30T18:38:34.346458",
   "environment_variables": {},
   "exception": null,
   "input_path": "__notebook__.ipynb",
   "output_path": "__notebook__.ipynb",
   "parameters": {},
   "start_time": "2025-07-30T18:37:54.008167",
   "version": "2.6.0"
  }
 },
 "nbformat": 4,
 "nbformat_minor": 5
}
